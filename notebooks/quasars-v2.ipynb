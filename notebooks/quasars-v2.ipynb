{
 "cells": [
  {
   "cell_type": "markdown",
   "metadata": {},
   "source": [
    "# Quasars Version 2:\n",
    "## The purpose of this notebook is to present the findings of quasars.pynb in a neater way. \n",
    "## Everything is done at z = 1 for simplicity"
   ]
  },
  {
   "cell_type": "code",
   "execution_count": 1,
   "metadata": {
    "collapsed": true
   },
   "outputs": [],
   "source": [
    "import numpy as np\n",
    "from matplotlib import pyplot as plt\n",
    "from scipy.interpolate import interp1d\n",
    "import weightedstats as ws\n",
    "from sigma_m import sigma_m\n",
    "from halo_mass_function import halo_mass_function\n",
    "from halo2bh import halo2bh\n",
    "from schechterLedd import schechterLedd\n",
    "from mhalo2bias import mhalo2bias\n",
    "%matplotlib inline"
   ]
  },
  {
   "cell_type": "markdown",
   "metadata": {},
   "source": [
    "## Generate a sample of uniformly distributed halo masses (and calculate hmf)"
   ]
  },
  {
   "cell_type": "code",
   "execution_count": 2,
   "metadata": {
    "collapsed": true
   },
   "outputs": [],
   "source": [
    "n = np.ones(1000)\n",
    "halomassrange = np.logspace(12, 16, 1000)\n",
    "\n",
    "halocdf = np.cumsum(n)\n",
    "\n",
    "randomPoints = np.random.uniform(min(halocdf), max(halocdf), size = 10000000)\n",
    "hminterpf = interp1d(halocdf, halomassrange)\n",
    "mhalo = hminterpf(randomPoints)"
   ]
  },
  {
   "cell_type": "code",
   "execution_count": 3,
   "metadata": {},
   "outputs": [
    {
     "name": "stderr",
     "output_type": "stream",
     "text": [
      "WARNING:root:get_matter_power_spectrum using larger k_max than input parameter Transfer.kmax\n",
      "WARNING:root:get_matter_power_spectrum using larger k_max than input parameter Transfer.kmax\n"
     ]
    }
   ],
   "source": [
    "hmf_small = halo_mass_function(halomassrange, 1.0)"
   ]
  },
  {
   "cell_type": "code",
   "execution_count": 4,
   "metadata": {
    "collapsed": true
   },
   "outputs": [],
   "source": [
    "HMFf = interp1d(halomassrange, hmf_small)\n",
    "hmf = HMFf(mhalo)"
   ]
  },
  {
   "cell_type": "markdown",
   "metadata": {},
   "source": [
    "## Generate a sample of uniformly distributed Eddington ratios (and calculate schechter)"
   ]
  },
  {
   "cell_type": "code",
   "execution_count": 5,
   "metadata": {
    "collapsed": true
   },
   "outputs": [],
   "source": [
    "n = np.ones(10000)\n",
    "leddrange = np.logspace(-4, 0, 10000)\n",
    "\n",
    "leddcdf = np.cumsum(n)\n",
    "\n",
    "randomledd = np.random.uniform(min(leddcdf), max(leddcdf), size = 10000000)\n",
    "leddinterpf = interp1d(leddcdf, leddrange)\n",
    "ledd = leddinterpf(randomledd)"
   ]
  },
  {
   "cell_type": "code",
   "execution_count": 6,
   "metadata": {
    "collapsed": true
   },
   "outputs": [],
   "source": [
    "schech_small = schechterLedd(leddrange)"
   ]
  },
  {
   "cell_type": "code",
   "execution_count": 7,
   "metadata": {
    "collapsed": true
   },
   "outputs": [],
   "source": [
    "schechF = interp1d(leddrange, schech_small)\n",
    "schech = schechF(ledd)"
   ]
  },
  {
   "cell_type": "markdown",
   "metadata": {},
   "source": [
    "## Calculate weights based on hmf and schech"
   ]
  },
  {
   "cell_type": "code",
   "execution_count": 8,
   "metadata": {
    "collapsed": true
   },
   "outputs": [],
   "source": [
    "weights = hmf * schech"
   ]
  },
  {
   "cell_type": "markdown",
   "metadata": {},
   "source": [
    "## Get Ricci et al 2017 $f_{obsc}$ distribution for my sample"
   ]
  },
  {
   "cell_type": "code",
   "execution_count": 9,
   "metadata": {
    "collapsed": true
   },
   "outputs": [],
   "source": [
    "rlogLedd = [-5.8, -4.9, -3.8, -3.0, -2.2, -1.7, -1.2, -0.8, -0.2]\n",
    "rfobs = [0.4, 0.4, 0.75, 0.85, 0.75, 0.70, 0.30, 0.05, 0.02]"
   ]
  },
  {
   "cell_type": "code",
   "execution_count": 10,
   "metadata": {
    "collapsed": true
   },
   "outputs": [],
   "source": [
    "fobscF = interp1d(rlogLedd, rfobs, bounds_error = False)\n",
    "fobscdist = fobscF(np.log10(ledd))"
   ]
  },
  {
   "cell_type": "markdown",
   "metadata": {},
   "source": [
    "## Determine which halos are obscured"
   ]
  },
  {
   "cell_type": "code",
   "execution_count": 11,
   "metadata": {
    "collapsed": true
   },
   "outputs": [],
   "source": [
    "weights = weights/max(weights)"
   ]
  },
  {
   "cell_type": "code",
   "execution_count": 12,
   "metadata": {},
   "outputs": [
    {
     "name": "stderr",
     "output_type": "stream",
     "text": [
      "/Users/kellywhalen/anaconda/envs/py27/lib/python2.7/site-packages/ipykernel_launcher.py:3: RuntimeWarning: invalid value encountered in less\n",
      "  This is separate from the ipykernel package so we can avoid doing imports until\n",
      "/Users/kellywhalen/anaconda/envs/py27/lib/python2.7/site-packages/ipykernel_launcher.py:4: RuntimeWarning: invalid value encountered in greater_equal\n",
      "  after removing the cwd from sys.path.\n"
     ]
    }
   ],
   "source": [
    "fobsc_rand = np.random.random(size = len(fobscdist))\n",
    "\n",
    "obscuredFlag = fobsc_rand < fobscdist ### True means obscured\n",
    "unobscuredFlag = fobsc_rand >= fobscdist"
   ]
  },
  {
   "cell_type": "code",
   "execution_count": 13,
   "metadata": {
    "collapsed": true
   },
   "outputs": [],
   "source": [
    "obscured_masses = mhalo[obscuredFlag]\n",
    "unobscured_masses = mhalo[unobscuredFlag]"
   ]
  },
  {
   "cell_type": "code",
   "execution_count": 14,
   "metadata": {},
   "outputs": [
    {
     "data": {
      "text/plain": [
       "<matplotlib.text.Text at 0x120d40950>"
      ]
     },
     "execution_count": 14,
     "metadata": {},
     "output_type": "execute_result"
    },
    {
     "data": {
      "image/png": "[encoded data removed]",
      "text/plain": [
       "<matplotlib.figure.Figure at 0x11fd18210>"
      ]
     },
     "metadata": {},
     "output_type": "display_data"
    }
   ],
   "source": [
    "plt.figure(figsize = (10,8))\n",
    "plt.hist(obscured_masses, weights = weights[obscuredFlag], bins = np.logspace(12, 16, 100), range = (min(mhalo), max(mhalo)), label = 'obscured', color = 'red', alpha = 0.5)[2]\n",
    "plt.hist(unobscured_masses, weights = weights[unobscuredFlag], bins = np.logspace(12, 16, 100), range = (min(mhalo), max(mhalo)), label = 'unobscured', color = 'blue', alpha = 0.5)[2]                                            \n",
    "axes = plt.gca()\n",
    "axes.set_xscale(\"log\")\n",
    "axes.set_yscale(\"log\")\n",
    "plt.legend()\n",
    "plt.xlabel('$M_{halo}$', fontsize = 14)\n",
    "plt.title('Full Distribution of Halo Masses')\n",
    "                            "
   ]
  },
  {
   "cell_type": "markdown",
   "metadata": {},
   "source": [
    "## Apply a luminosity cut"
   ]
  },
  {
   "cell_type": "markdown",
   "metadata": {},
   "source": [
    "### convert from halo mass to black hole mass"
   ]
  },
  {
   "cell_type": "code",
   "execution_count": 15,
   "metadata": {
    "collapsed": true
   },
   "outputs": [],
   "source": [
    "bhmass, bhmf = halo2bh(mhalo, hmf)"
   ]
  },
  {
   "cell_type": "markdown",
   "metadata": {},
   "source": [
    "### Calculate Luminosities [$L_{\\odot}$] using these $M_{BH}$ and $\\lambda _{edd}$ "
   ]
  },
  {
   "cell_type": "code",
   "execution_count": 16,
   "metadata": {
    "collapsed": true
   },
   "outputs": [],
   "source": [
    "luminosities = ledd * bhmass *3.2e4"
   ]
  },
  {
   "cell_type": "code",
   "execution_count": 17,
   "metadata": {
    "collapsed": true
   },
   "outputs": [],
   "source": [
    "Lcut = 10**(45.8) /  3.826e33 "
   ]
  },
  {
   "cell_type": "code",
   "execution_count": 18,
   "metadata": {
    "collapsed": true
   },
   "outputs": [],
   "source": [
    "lumFlag = luminosities > Lcut"
   ]
  },
  {
   "cell_type": "code",
   "execution_count": 19,
   "metadata": {
    "collapsed": true
   },
   "outputs": [],
   "source": [
    "obsclumFlag = lumFlag[obscuredFlag]\n",
    "unobsclumFlag = lumFlag[unobscuredFlag]"
   ]
  },
  {
   "cell_type": "code",
   "execution_count": 20,
   "metadata": {},
   "outputs": [
    {
     "data": {
      "text/plain": [
       "<matplotlib.text.Text at 0x14e7acd50>"
      ]
     },
     "execution_count": 20,
     "metadata": {},
     "output_type": "execute_result"
    },
    {
     "data": {
      "image/png": "[encoded data removed]",
      "text/plain": [
       "<matplotlib.figure.Figure at 0x14e0046d0>"
      ]
     },
     "metadata": {},
     "output_type": "display_data"
    }
   ],
   "source": [
    "plt.figure(figsize = (10,8))\n",
    "plt.hist(obscured_masses[obsclumFlag], weights = weights[obscuredFlag][obsclumFlag], bins = np.logspace(12, 16, 1000), range = (min(mhalo), max(mhalo)), label = 'obscured', color = 'red', alpha = 0.5, normed = True)[2]\n",
    "plt.hist(unobscured_masses[unobsclumFlag], weights = weights[unobscuredFlag][unobsclumFlag], bins = np.logspace(12, 16, 1000), range = (min(mhalo), max(mhalo)), label = 'unobscured', color = 'blue', alpha = 0.5, normed = True)[2]                                            \n",
    "axes = plt.gca()\n",
    "axes.set_xscale(\"log\")\n",
    "axes.set_yscale(\"log\")\n",
    "plt.legend()\n",
    "plt.xlabel('$M_{halo}$', fontsize = 14)\n",
    "plt.title('Distribution of Halo Masses After a Luminosity Cut $L_{cut} = $' + str(10**(45.8) /  3.826e33))"
   ]
  },
  {
   "cell_type": "code",
   "execution_count": 21,
   "metadata": {},
   "outputs": [
    {
     "name": "stdout",
     "output_type": "stream",
     "text": [
      "Weighted Averages\n",
      "Obscured: 2.30948199295e+13\n",
      "Unobscured: 1.55068859713e+13\n"
     ]
    }
   ],
   "source": [
    "obscmean = np.average(obscured_masses[obsclumFlag], weights = weights[obscuredFlag][obsclumFlag])\n",
    "unobscmean = np.average(unobscured_masses[unobsclumFlag], weights = weights[unobscuredFlag][unobsclumFlag])\n",
    "\n",
    "print \"Weighted Averages\"\n",
    "print \"Obscured: \" + str(obscmean)\n",
    "print \"Unobscured: \" + str(unobscmean)"
   ]
  },
  {
   "cell_type": "code",
   "execution_count": 22,
   "metadata": {},
   "outputs": [
    {
     "name": "stdout",
     "output_type": "stream",
     "text": [
      "Weighted Medians\n",
      "Obscured: 1.01358442808e+13\n",
      "Unobscured: 8.118832e+12\n"
     ]
    }
   ],
   "source": [
    "obscmed = ws.weighted_median(obscured_masses[obsclumFlag], weights = weights[obscuredFlag][obsclumFlag])\n",
    "unobscmed = ws.weighted_median(unobscured_masses[unobsclumFlag], weights = weights[unobscuredFlag][unobsclumFlag])\n",
    "\n",
    "print \"Weighted Medians\"\n",
    "print \"Obscured: \" + str(obscmed)\n",
    "print \"Unobscured: \" + str(unobscmed)"
   ]
  },
  {
   "cell_type": "markdown",
   "metadata": {},
   "source": [
    "## Recreate DiPompeo et al. 2017 Figure 4"
   ]
  },
  {
   "cell_type": "code",
   "execution_count": 23,
   "metadata": {
    "collapsed": true
   },
   "outputs": [],
   "source": [
    "Lcutrange = np.logspace(np.log10(10**(44)/ 3.826e33), np.log10(10**(47)/ 3.826e33), 10)\n",
    "obschalomed = np.zeros(10)\n",
    "unobschalomed = np.zeros(10)\n",
    "index = 0"
   ]
  },
  {
   "cell_type": "code",
   "execution_count": 24,
   "metadata": {},
   "outputs": [
    {
     "name": "stdout",
     "output_type": "stream",
     "text": [
      "One round done\n",
      "One round done\n",
      "One round done\n",
      "One round done\n",
      "One round done\n",
      "One round done\n",
      "One round done\n",
      "One round done\n",
      "One round done\n",
      "One round done\n"
     ]
    }
   ],
   "source": [
    "for lcuts in Lcutrange:\n",
    "    \n",
    "    lumFlags = luminosities > lcuts\n",
    "    obsclumFlags = lumFlags[obscuredFlag]\n",
    "    unobsclumFlags = lumFlags[unobscuredFlag]\n",
    "    \n",
    "    obscuredHalos = obscured_masses[obsclumFlags] \n",
    "    unobscuredHalos = unobscured_masses[unobsclumFlags] \n",
    "    \n",
    "    obschalomed[index] = ws.weighted_median(obscuredHalos, weights = weights[obscuredFlag][obsclumFlags])\n",
    "    unobschalomed[index] = ws.weighted_median(unobscuredHalos, weights = weights[unobscuredFlag][unobsclumFlags])\n",
    "    \n",
    "    index = index + 1\n",
    "    print 'One round done'"
   ]
  },
  {
   "cell_type": "code",
   "execution_count": 25,
   "metadata": {},
   "outputs": [
    {
     "data": {
      "text/plain": [
       "<matplotlib.legend.Legend at 0x184475050>"
      ]
     },
     "execution_count": 25,
     "metadata": {},
     "output_type": "execute_result"
    },
    {
     "data": {
      "image/png": "[encoded data removed]",
      "text/plain": [
       "<matplotlib.figure.Figure at 0x183deced0>"
      ]
     },
     "metadata": {},
     "output_type": "display_data"
    }
   ],
   "source": [
    "plt.figure(figsize = (10,8))\n",
    "plt.loglog(Lcutrange, obschalomed, 'r', label = 'obscured halos')\n",
    "plt.loglog(Lcutrange, unobschalomed, 'b--', label = 'unobscured halos')\n",
    "axes = plt.gca()\n",
    "axes.set_ylim([1e12, 1e14])\n",
    "#plt.axvline(9e11, color = 'g')\n",
    "plt.xlabel('$L_{cut} \\ [L_{\\odot}]$', fontsize = 14)\n",
    "plt.ylabel('$M_{h}$', fontsize = 14)\n",
    "plt.legend()"
   ]
  },
  {
   "cell_type": "markdown",
   "metadata": {},
   "source": [
    "## Things to do:\n",
    "### 1. See what happens if you tweak the Eddington ratio - obscured fraction relation a bit (from Ricci et al.). For example, make it completely flat as it goes to low Eddington ratio, instead of peaking and turning back down slightly (remember the errors on the low Eddington side are fairly large). --- COME BACK TO THIS\n"
   ]
  },
  {
   "cell_type": "code",
   "execution_count": 26,
   "metadata": {},
   "outputs": [
    {
     "data": {
      "text/plain": [
       "<matplotlib.text.Text at 0x1517e7ad0>"
      ]
     },
     "execution_count": 26,
     "metadata": {},
     "output_type": "execute_result"
    },
    {
     "data": {
      "image/png": "[encoded data removed]",
      "text/plain": [
       "<matplotlib.figure.Figure at 0x1517c0c90>"
      ]
     },
     "metadata": {},
     "output_type": "display_data"
    }
   ],
   "source": [
    "rlogLedd = [-5.8, -4.9, -3.8, -3.0, -2.2, -1.7, -1.2, -0.8, -0.2]\n",
    "rfobs_flat = [0.85, 0.85, 0.85, 0.85, 0.75, 0.70, 0.30, 0.05, 0.02]\n",
    "\n",
    "plt.figure(figsize = (5,5))\n",
    "plt.plot(rlogLedd, rfobs_flat)\n",
    "plt.xlabel('$log \\lambda _{edd}$', fontsize = 12)\n",
    "plt.ylabel('$f_{obscured}$', fontsize = 12)"
   ]
  },
  {
   "cell_type": "code",
   "execution_count": 27,
   "metadata": {
    "collapsed": true
   },
   "outputs": [],
   "source": [
    "fobscF_flat = interp1d(rlogLedd, rfobs_flat, bounds_error = False)\n",
    "fobscdist_flat = fobscF_flat(np.log10(ledd))"
   ]
  },
  {
   "cell_type": "code",
   "execution_count": 28,
   "metadata": {},
   "outputs": [
    {
     "name": "stderr",
     "output_type": "stream",
     "text": [
      "/Users/kellywhalen/anaconda/envs/py27/lib/python2.7/site-packages/ipykernel_launcher.py:3: RuntimeWarning: invalid value encountered in less\n",
      "  This is separate from the ipykernel package so we can avoid doing imports until\n",
      "/Users/kellywhalen/anaconda/envs/py27/lib/python2.7/site-packages/ipykernel_launcher.py:4: RuntimeWarning: invalid value encountered in greater_equal\n",
      "  after removing the cwd from sys.path.\n"
     ]
    }
   ],
   "source": [
    "fobsc_rand_flat = np.random.random(size = len(fobscdist_flat))\n",
    "\n",
    "obscuredFlag_flat = fobsc_rand_flat < fobscdist_flat ### True means obscured\n",
    "unobscuredFlag_flat = fobsc_rand_flat >= fobscdist_flat"
   ]
  },
  {
   "cell_type": "code",
   "execution_count": 29,
   "metadata": {
    "collapsed": true
   },
   "outputs": [],
   "source": [
    "obscured_masses_flat = mhalo[obscuredFlag_flat]\n",
    "unobscured_masses_flat = mhalo[unobscuredFlag_flat]"
   ]
  },
  {
   "cell_type": "code",
   "execution_count": 30,
   "metadata": {},
   "outputs": [
    {
     "data": {
      "text/plain": [
       "<matplotlib.text.Text at 0x14bf6a7d0>"
      ]
     },
     "execution_count": 30,
     "metadata": {},
     "output_type": "execute_result"
    },
    {
     "data": {
      "image/png": "[encoded data removed]",
      "text/plain": [
       "<matplotlib.figure.Figure at 0x1517d0b90>"
      ]
     },
     "metadata": {},
     "output_type": "display_data"
    }
   ],
   "source": [
    "plt.figure(figsize = (10,8))\n",
    "plt.hist(obscured_masses_flat, weights = weights[obscuredFlag_flat], bins = np.logspace(12, 16, 100), range = (min(mhalo), max(mhalo)), label = 'obscured', color = 'red', alpha = 0.5)[2]\n",
    "plt.hist(unobscured_masses_flat, weights = weights[unobscuredFlag_flat], bins = np.logspace(12, 16, 100), range = (min(mhalo), max(mhalo)), label = 'unobscured', color = 'blue', alpha = 0.5)[2]                                            \n",
    "axes = plt.gca()\n",
    "axes.set_xscale(\"log\")\n",
    "axes.set_yscale(\"log\")\n",
    "plt.legend()\n",
    "plt.xlabel('$M_{halo}$', fontsize = 14)\n",
    "plt.title('Full Distribution of Halo Masses')"
   ]
  },
  {
   "cell_type": "markdown",
   "metadata": {},
   "source": [
    "#### Apply a luminosity cut"
   ]
  },
  {
   "cell_type": "code",
   "execution_count": 31,
   "metadata": {
    "collapsed": true
   },
   "outputs": [],
   "source": [
    "obsclumFlag_flat = lumFlag[obscuredFlag_flat]\n",
    "unobsclumFlag_flat = lumFlag[unobscuredFlag_flat]"
   ]
  },
  {
   "cell_type": "code",
   "execution_count": 32,
   "metadata": {},
   "outputs": [
    {
     "data": {
      "text/plain": [
       "<matplotlib.text.Text at 0x1536893d0>"
      ]
     },
     "execution_count": 32,
     "metadata": {},
     "output_type": "execute_result"
    },
    {
     "data": {
      "image/png": "[encoded data removed]",
      "text/plain": [
       "<matplotlib.figure.Figure at 0x14eba2610>"
      ]
     },
     "metadata": {},
     "output_type": "display_data"
    }
   ],
   "source": [
    "plt.figure(figsize = (10,8))\n",
    "plt.hist(obscured_masses_flat[obsclumFlag_flat], weights = weights[obscuredFlag_flat][obsclumFlag_flat], bins = np.logspace(12, 16, 1000), range = (min(mhalo), max(mhalo)), label = 'obscured', color = 'red', alpha = 0.5, normed = True)[2]\n",
    "plt.hist(unobscured_masses_flat[unobsclumFlag_flat], weights = weights[unobscuredFlag_flat][unobsclumFlag_flat], bins = np.logspace(12, 16, 1000), range = (min(mhalo), max(mhalo)), label = 'unobscured', color = 'blue', alpha = 0.5, normed = True)[2]                                            \n",
    "axes = plt.gca()\n",
    "axes.set_xscale(\"log\")\n",
    "axes.set_yscale(\"log\")\n",
    "plt.legend()\n",
    "plt.xlabel('$M_{halo}$', fontsize = 14)\n",
    "plt.title('Distribution of Halo Masses After a Luminosity Cut $L_{cut} = $' + str(10**(45.8) /  3.826e33))"
   ]
  },
  {
   "cell_type": "code",
   "execution_count": 33,
   "metadata": {},
   "outputs": [
    {
     "name": "stdout",
     "output_type": "stream",
     "text": [
      "5481966 5317525\n"
     ]
    }
   ],
   "source": [
    "print sum(obscuredFlag_flat), sum(obscuredFlag)"
   ]
  },
  {
   "cell_type": "markdown",
   "metadata": {},
   "source": [
    "## 2. See what happens if you adjust the lower limit on your Eddington ratios (which will effectively change your mean accretion rate). You could make a plot for example that holds the luminosity cut fixed and plots median M_halo vs. minimum Eddington ratio (or mean Eddington ratio).\n"
   ]
  },
  {
   "cell_type": "code",
   "execution_count": 34,
   "metadata": {},
   "outputs": [],
   "source": [
    "obscured_masses_lumcut = obscured_masses[obsclumFlag]\n",
    "unobscured_masses_lumcut = unobscured_masses[unobsclumFlag]\n",
    "\n",
    "weights_obsc_lumcut = weights[obscuredFlag][obsclumFlag]\n",
    "weights_unobsc_lumcut = weights[unobscuredFlag][unobsclumFlag]\n",
    "\n",
    "ledd_obsc_lumcut = ledd[obscuredFlag][obsclumFlag]\n",
    "ledd_unobsc_lumcut = ledd[unobscuredFlag][unobsclumFlag]"
   ]
  },
  {
   "cell_type": "code",
   "execution_count": null,
   "metadata": {
    "collapsed": true
   },
   "outputs": [],
   "source": [
    "minLedd = np.logspace(-4, 0, 20)\n",
    "medmasses_obsc = np.ones(len(minLedd))\n",
    "medmasses_unobsc = np.ones(len(minLedd))"
   ]
  },
  {
   "cell_type": "code",
   "execution_count": null,
   "metadata": {},
   "outputs": [],
   "source": [
    "for i in range(len(minLedd)):\n",
    "    obscleddFlag = ledd_obsc_lumcut > minLedd[i]\n",
    "    unobscleddFlag = ledd_unobsc_lumcut > minLedd[i]\n",
    "    \n",
    "    medmasses_obsc[i] = ws.weighted_median(obscured_masses_lumcut[obscleddFlag], weights = weights_obsc_lumcut[obscleddFlag])\n",
    "    medmasses_unobsc[i] = ws.weighted_median(unobscured_masses_lumcut[unobscleddFlag], weights = weights_unobsc_lumcut[unobscleddFlag])"
   ]
  },
  {
   "cell_type": "code",
   "execution_count": null,
   "metadata": {},
   "outputs": [],
   "source": [
    "plt.figure(figsize = (10,8))\n",
    "plt.semilogx(minLedd, medmasses_obsc, 'ro', label = 'obscured')\n",
    "plt.loglog(minLedd, medmasses_obsc, 'r')\n",
    "plt.loglog(minLedd, medmasses_unobsc, 'b', label = 'unobscured')\n",
    "plt.loglog(minLedd, medmasses_unobsc, 'bo')\n",
    "plt.xlabel('Minimum $\\lambda_{edd}$', fontsize = 14)\n",
    "plt.ylabel('Median $M_{halo}$', fontsize = 14)\n",
    "plt.legend()"
   ]
  },
  {
   "cell_type": "markdown",
   "metadata": {},
   "source": [
    "## 3. Convert halo mass distributions into bias values (original Ricci $f_{obsc}$ relation)"
   ]
  },
  {
   "cell_type": "code",
   "execution_count": null,
   "metadata": {},
   "outputs": [],
   "source": [
    "nu, bias = mhalo2bias(halomassrange, 1)"
   ]
  },
  {
   "cell_type": "code",
   "execution_count": null,
   "metadata": {},
   "outputs": [],
   "source": [
    "plt.figure(figsize = (10, 8))\n",
    "plt.semilogx(nu, bias, 'b--')\n",
    "plt.xlabel('$\\\\nu$', fontsize = 14)\n",
    "plt.ylabel('$b( \\\\nu )$', fontsize = 14)\n",
    "axes = plt.gca()\n",
    "axes.set_xlim([nu[0], 10**(0.6)])\n",
    "axes.set_ylim(0, 9)"
   ]
  },
  {
   "cell_type": "code",
   "execution_count": null,
   "metadata": {
    "collapsed": true
   },
   "outputs": [],
   "source": []
  },
  {
   "cell_type": "code",
   "execution_count": null,
   "metadata": {
    "collapsed": true
   },
   "outputs": [],
   "source": []
  }
 ],
 "metadata": {
  "kernelspec": {
   "display_name": "Python 2",
   "language": "python",
   "name": "python2"
  },
  "language_info": {
   "codemirror_mode": {
    "name": "ipython",
    "version": 2
   },
   "file_extension": ".py",
   "mimetype": "text/x-python",
   "name": "python",
   "nbconvert_exporter": "python",
   "pygments_lexer": "ipython2",
   "version": "2.7.13"
  }
 },
 "nbformat": 4,
 "nbformat_minor": 2
}
